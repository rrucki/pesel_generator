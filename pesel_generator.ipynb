{
 "cells": [
  {
   "cell_type": "code",
   "execution_count": 5,
   "source": [
    "from faker import Faker\n",
    "import datetime\n",
    "import functools\n",
    "import pandas as pd\n",
    "import random\n",
    "import timeit\n",
    "fake = Faker(['pl_PL'])\n",
    "\n",
    "\n",
    "def generate_ssns(record_count):\n",
    "    records = pd.DataFrame([[fake.ssn()] for _ in range(record_count)], columns=[\"PESEL\"])\n",
    "    return records\n",
    "\n",
    "\n",
    "def generate_unique_ssns(record_count, start_date, end_date, person_sex):\n",
    "    record_list = []\n",
    "    for _ in range(record_count):\n",
    "        random_date = start_date + datetime.timedelta(days=random.randrange((end_date - start_date).days))\n",
    "        record_list.append(fake.pesel(date_of_birth=random_date, sex=person_sex))\n",
    "    records = pd.DataFrame(record_list, columns=[\"PESEL\"])\n",
    "    return records\n",
    "\n",
    "\n",
    "def validate_ssn(pesel, sex, birth_date):\n",
    "    template_pesel = fake.pesel(date_of_birth=birth_date)\n",
    "    checksum = (int(pesel[0])*1 + int(pesel[1])*3 + int(pesel[2])*7 + int(pesel[3])*9 + int(pesel[4])*1 +\n",
    "                int(pesel[5])*3 + int(pesel[6])*7 + int(pesel[7])*9 + int(pesel[8])*1 + int(pesel[9])*3 +\n",
    "                int(pesel[10])*1)\n",
    "\n",
    "    if template_pesel[:6] == pesel[:6] and str(checksum)[-1] == '0':\n",
    "        if int(pesel[9]) % 2 == 0 and sex == 'F':\n",
    "            return print(\"PESEL: {} is valid\".format(pesel))\n",
    "        elif int(pesel[9]) % 2 != 0 and sex == 'M':\n",
    "            return print(\"PESEL: {} is valid\".format(pesel))\n",
    "        elif sex != 'F' and sex != 'M':\n",
    "            return print(\"PESEL: {} is valid\".format(pesel))\n",
    "        else:\n",
    "            return print(\"PESEL: {} is invalid\".format(pesel))\n",
    "    else:\n",
    "        return print(\"PESEL: {} is invalid\".format(pesel))\n",
    "\n",
    "\n",
    "def main():\n",
    "    generate_ssns(5)  # boot loop to reduce initial lag\n",
    "    print(\"generate_ssns - 10 records in \\t\\t\\t\\t{} second\"\n",
    "          .format(timeit.Timer(functools.partial(generate_ssns, 10)).timeit(1)))\n",
    "    print(\"generate_ssns - 100 records in \\t\\t\\t\\t{} second\"\n",
    "          .format(timeit.Timer(functools.partial(generate_ssns, 100)).timeit(1)))\n",
    "    print(\"generate_ssns - 1000 records in \\t\\t\\t{} second\"\n",
    "          .format(timeit.Timer(functools.partial(generate_ssns, 1000)).timeit(1)))\n",
    "    print(\"generate_unique_ssns - 1000 records in \\t\\t{} second\"\n",
    "          .format(timeit.Timer(functools.partial(generate_unique_ssns, 1000, datetime.date(1920, 1, 20),\n",
    "                                                 datetime.date(1994, 10, 10), 'M')).timeit(1)))\n",
    "    validate_ssn('71102690031', 'M', datetime.date(1971, 10, 26))\n",
    "    return\n",
    "\n",
    "\n",
    "if __name__ == '__main__':\n",
    "    main()\n"
   ],
   "outputs": [
    {
     "output_type": "error",
     "ename": "ModuleNotFoundError",
     "evalue": "No module named 'pandas'",
     "traceback": [
      "\u001b[0;31m---------------------------------------------------------------------------\u001b[0m",
      "\u001b[0;31mModuleNotFoundError\u001b[0m                       Traceback (most recent call last)",
      "\u001b[0;32m/var/folders/mm/7tphlhs91w34ngry90mm_d8w0000gn/T/ipykernel_69822/1022466883.py\u001b[0m in \u001b[0;36m<module>\u001b[0;34m\u001b[0m\n\u001b[1;32m      2\u001b[0m \u001b[0;32mimport\u001b[0m \u001b[0mdatetime\u001b[0m\u001b[0;34m\u001b[0m\u001b[0;34m\u001b[0m\u001b[0m\n\u001b[1;32m      3\u001b[0m \u001b[0;32mimport\u001b[0m \u001b[0mfunctools\u001b[0m\u001b[0;34m\u001b[0m\u001b[0;34m\u001b[0m\u001b[0m\n\u001b[0;32m----> 4\u001b[0;31m \u001b[0;32mimport\u001b[0m \u001b[0mpandas\u001b[0m \u001b[0;32mas\u001b[0m \u001b[0mpd\u001b[0m\u001b[0;34m\u001b[0m\u001b[0;34m\u001b[0m\u001b[0m\n\u001b[0m\u001b[1;32m      5\u001b[0m \u001b[0;32mimport\u001b[0m \u001b[0mrandom\u001b[0m\u001b[0;34m\u001b[0m\u001b[0;34m\u001b[0m\u001b[0m\n\u001b[1;32m      6\u001b[0m \u001b[0;32mimport\u001b[0m \u001b[0mtimeit\u001b[0m\u001b[0;34m\u001b[0m\u001b[0;34m\u001b[0m\u001b[0m\n",
      "\u001b[0;31mModuleNotFoundError\u001b[0m: No module named 'pandas'"
     ]
    }
   ],
   "metadata": {}
  }
 ],
 "metadata": {
  "orig_nbformat": 4,
  "language_info": {
   "name": "python",
   "version": "3.10.1",
   "mimetype": "text/x-python",
   "codemirror_mode": {
    "name": "ipython",
    "version": 3
   },
   "pygments_lexer": "ipython3",
   "nbconvert_exporter": "python",
   "file_extension": ".py"
  },
  "kernelspec": {
   "name": "python3",
   "display_name": "Python 3.10.1 64-bit"
  },
  "interpreter": {
   "hash": "aee8b7b246df8f9039afb4144a1f6fd8d2ca17a180786b69acc140d282b71a49"
  }
 },
 "nbformat": 4,
 "nbformat_minor": 2
}